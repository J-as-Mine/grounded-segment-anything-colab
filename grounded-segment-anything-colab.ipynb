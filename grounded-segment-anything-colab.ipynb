{
    "nbformat": 4,
    "nbformat_minor": 0,
    "metadata": {
      "colab": {
        "provenance": []
      },
      "kernelspec": {
        "name": "python3",
        "display_name": "Python 3"
      },
      "language_info": {
        "name": "python"
      },
      "accelerator": "GPU",
      "gpuClass": "standard"
    },
    "cells": [
        {
          "cell_type": "markdown",
          "metadata": {
            "id": "view-in-github"
          },
          "source": [
            "[![Open In Colab](https://colab.research.google.com/assets/colab-badge.svg)](https://colab.research.google.com/github/camenduru/grounded-segment-anything-colab/blob/main/grounded-segment-anything-colab.ipynb)"
          ]
        },
      {
        "cell_type": "code",
        "source": [
          "%cd /content\n",
          "!git clone https://github.com/IDEA-Research/Grounded-Segment-Anything\n",
          "%cd /content/Grounded-Segment-Anything\n",
          "!pip install -r requirements.txt\n",
          "%cd /content/Grounded-Segment-Anything/GroundingDINO\n",
          "!pip install .\n",
          "%cd /content/Grounded-Segment-Anything/segment_anything\n",
          "!pip install .\n",
          "%cd /content/Grounded-Segment-Anything\n",
          "!python gradio_app.py --share --debug"
        ],
        "metadata": {
          "id": "YyaHcAkaOt7b"
        },
        "execution_count": null,
        "outputs": []
      }
    ]
  }